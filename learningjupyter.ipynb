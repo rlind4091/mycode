{
 "cells": [
  {
   "cell_type": "code",
   "execution_count": 1,
   "id": "57de8565-f743-4a68-aa36-dd58af7189fd",
   "metadata": {},
   "outputs": [
    {
     "name": "stdout",
     "output_type": "stream",
     "text": [
      "hello\n"
     ]
    }
   ],
   "source": [
    "print(\"hello\")"
   ]
  },
  {
   "cell_type": "markdown",
   "id": "fef38271-192a-4e81-9f81-ef3ef8c504d0",
   "metadata": {
    "tags": []
   },
   "source": [
    "# Learning Jupyter Notebook\n",
    " - where to *Click*\n",
    " - How to **Execute** code"
   ]
  },
  {
   "cell_type": "markdown",
   "id": "27c425a0-2b44-4e11-9eb5-3a1006e6d507",
   "metadata": {},
   "source": [
    "### Markdown explains what happened in code"
   ]
  },
  {
   "cell_type": "markdown",
   "id": "a44ace26-bdc8-48b1-88c6-1435a061f748",
   "metadata": {},
   "source": [
    "### Jupyter Notebook will automatically display the value of a variable"
   ]
  },
  {
   "cell_type": "code",
   "execution_count": 2,
   "id": "7c16e301-e2fc-4a02-a964-53d73d7d597d",
   "metadata": {},
   "outputs": [
    {
     "data": {
      "text/plain": [
       "5"
      ]
     },
     "execution_count": 2,
     "metadata": {},
     "output_type": "execute_result"
    }
   ],
   "source": [
    "x = 5\n",
    "x "
   ]
  },
  {
   "cell_type": "code",
   "execution_count": null,
   "id": "978d09cc-3a80-4a9c-a324-3bfe0b762a9c",
   "metadata": {},
   "outputs": [],
   "source": [
    "greeting = \"Hello World!\"\n",
    "greeting\n",
    "greeting\n",
    "greeting\n",
    "x\n",
    "print (greeting, x)\n"
   ]
  },
  {
   "cell_type": "markdown",
   "id": "801db6a2-fbda-44be-b577-ac3629366bdc",
   "metadata": {},
   "source": [
    "- *as if*"
   ]
  },
  {
   "cell_type": "code",
   "execution_count": null,
   "id": "e4751cc5-c341-462f-bb6d-31992a88eb80",
   "metadata": {},
   "outputs": [],
   "source": []
  }
 ],
 "metadata": {
  "kernelspec": {
   "display_name": "Python 3 (ipykernel)",
   "language": "python",
   "name": "python3"
  },
  "language_info": {
   "codemirror_mode": {
    "name": "ipython",
    "version": 3
   },
   "file_extension": ".py",
   "mimetype": "text/x-python",
   "name": "python",
   "nbconvert_exporter": "python",
   "pygments_lexer": "ipython3",
   "version": "3.10.6"
  }
 },
 "nbformat": 4,
 "nbformat_minor": 5
}
