{
 "cells": [
  {
   "cell_type": "code",
   "execution_count": 1,
   "id": "92682089-cf4f-4213-8ad6-d5c66da1964e",
   "metadata": {},
   "outputs": [
    {
     "data": {
      "text/plain": [
       "0.74"
      ]
     },
     "execution_count": 1,
     "metadata": {},
     "output_type": "execute_result"
    }
   ],
   "source": [
    "# describe all parts of the confusion matrix\n",
    "tp = 42\n",
    "tn = 32\n",
    "fp = 8\n",
    "fn = 18\n",
    "\n",
    "# calculate accuracy\n",
    "accuracy = (tp + tn)/(tp + tn + fp + fn)\n",
    "accuracy \n"
   ]
  },
  {
   "cell_type": "code",
   "execution_count": 2,
   "id": "a9c2c870-5199-41ed-8dfc-afc833b9f9a2",
   "metadata": {},
   "outputs": [
    {
     "data": {
      "text/plain": [
       "0.5"
      ]
     },
     "execution_count": 2,
     "metadata": {},
     "output_type": "execute_result"
    }
   ],
   "source": [
    "# describe all parts of the confusion matrix\n",
    "# assume we have an algorithm that can only guess a single classifier\n",
    "tp = 0\n",
    "tn = 50\n",
    "fp = 50\n",
    "fn = 0\n",
    "\n",
    "# calculate accuracy\n",
    "accuracy = (tp + tn)/(tp + tn + fp + fn)\n",
    "accuracy "
   ]
  },
  {
   "cell_type": "code",
   "execution_count": 3,
   "id": "f0255a3c-34e8-43ae-b8e9-e9130d5fb81b",
   "metadata": {},
   "outputs": [
    {
     "name": "stdout",
     "output_type": "stream",
     "text": [
      "0.95\n"
     ]
    }
   ],
   "source": [
    "# calculate an accuracy of 95%\n",
    "tp = 4\n",
    "tn = 91\n",
    "fp = 1\n",
    "fn = 4\n",
    "\n",
    "accuracy = (tp + tn)/(tp + tn + fp + fn)\n",
    "print(accuracy)   # calculates as 95%\n"
   ]
  },
  {
   "cell_type": "code",
   "execution_count": 4,
   "id": "02b8d882-f6f8-4317-8ba3-e53be407cfeb",
   "metadata": {},
   "outputs": [
    {
     "name": "stdout",
     "output_type": "stream",
     "text": [
      "0.9900990099009901\n"
     ]
    }
   ],
   "source": [
    "# calculate an accuracy of 95%\n",
    "# however we only guessed a single classifer\n",
    "tp = 0\n",
    "tn = 95\n",
    "tp = 5\n",
    "fn = 0\n",
    "accuracy = (tp + tn)/(tp + tn + fp + fn)\n",
    "print(accuracy)\n"
   ]
  },
  {
   "cell_type": "code",
   "execution_count": 5,
   "id": "e0859c41-6167-4749-8165-3345012ac917",
   "metadata": {},
   "outputs": [
    {
     "name": "stdout",
     "output_type": "stream",
     "text": [
      "precision: 0.89\n"
     ]
    }
   ],
   "source": [
    "tp = 114\n",
    "fp = 14\n",
    "# fn (0) and tn (12) are not needed in the formula\n",
    "precision = tp / (tp + fp)\n",
    "print(f\"precision: {precision:4.2f}\")\n"
   ]
  },
  {
   "cell_type": "code",
   "execution_count": 6,
   "id": "4793ff50-0480-49a7-a02a-3843d2c71336",
   "metadata": {},
   "outputs": [
    {
     "name": "stdout",
     "output_type": "stream",
     "text": [
      "recall: 1.00\n"
     ]
    }
   ],
   "source": [
    "# calculating recall\n",
    "tp = 114\n",
    "fn = 0\n",
    "# ft (14) and tn (12) are not needed in the formula\n",
    "recall = tp / (tp + fn)\n",
    "print(f\"recall: {recall:4.2f}\")\n"
   ]
  },
  {
   "cell_type": "code",
   "execution_count": null,
   "id": "c12cdbed-bb4e-4450-9b21-4a98715ba7d7",
   "metadata": {},
   "outputs": [],
   "source": [
    "TF = 7 # we set the True false values to 5 %\n",
    "print(\"  fn    fp   tp     pre   acc   rec   f1\")\n",
    "for fn in range(0, 7):\n",
    "    for fp in range(0, fn+1):\n",
    "        # the sum of fn, fp, TF and tp will be 100:\n",
    "        tp = 100 - fn - fp - TF\n",
    "        #print(fn, fp, tp, fn+fp+tp+TF)\n",
    "        precision = tp / (tp + fp)\n",
    "        accuracy = (tp + tn)/(tp + tn + fp + fn)\n",
    "        recall = tp / (tp + fn)\n",
    "        f1_score = 2 * precision * recall / (precision + recall)\n",
    "        print(f\"{fn:6.2f}{fp:6.2f}{tp:6.2f}\", end=\"\")\n",
    "        print(f\"{precision:6.2f}{accuracy:6.2f}{recall:6.2f}{f1_score:6.2f}\")\n"
   ]
  }
 ],
 "metadata": {
  "kernelspec": {
   "display_name": "Python 3 (ipykernel)",
   "language": "python",
   "name": "python3"
  },
  "language_info": {
   "codemirror_mode": {
    "name": "ipython",
    "version": 3
   },
   "file_extension": ".py",
   "mimetype": "text/x-python",
   "name": "python",
   "nbconvert_exporter": "python",
   "pygments_lexer": "ipython3",
   "version": "3.10.6"
  }
 },
 "nbformat": 4,
 "nbformat_minor": 5
}
