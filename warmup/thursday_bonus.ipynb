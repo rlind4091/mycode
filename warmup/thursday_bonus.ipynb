{
 "cells": [
  {
   "cell_type": "code",
   "execution_count": 1,
   "id": "ef9b7739-463d-4a5b-8d1a-847347f28429",
   "metadata": {},
   "outputs": [
    {
     "name": "stdout",
     "output_type": "stream",
     "text": [
      "Opened database successfully\n",
      "Table created successfully\n"
     ]
    },
    {
     "ename": "IntegrityError",
     "evalue": "UNIQUE constraint failed: THURSDAY.ID",
     "output_type": "error",
     "traceback": [
      "\u001b[0;31m---------------------------------------------------------------------------\u001b[0m",
      "\u001b[0;31mIntegrityError\u001b[0m                            Traceback (most recent call last)",
      "Cell \u001b[0;32mIn [1], line 12\u001b[0m\n\u001b[1;32m      4\u001b[0m conn\u001b[38;5;241m.\u001b[39mexecute(\u001b[38;5;124m'''\u001b[39m\u001b[38;5;124mCREATE TABLE IF NOT EXISTS THURSDAY\u001b[39m\n\u001b[1;32m      5\u001b[0m \u001b[38;5;124m (ID INT PRIMARY KEY     NOT NULL,\u001b[39m\n\u001b[1;32m      6\u001b[0m \u001b[38;5;124m BAND           TEXT    NOT NULL,\u001b[39m\n\u001b[1;32m      7\u001b[0m \u001b[38;5;124m HOMETOWN       TEXT     NOT NULL,\u001b[39m\n\u001b[1;32m      8\u001b[0m \u001b[38;5;124m YEAR           INT      NOT NULL);\u001b[39m\u001b[38;5;124m'''\u001b[39m)\n\u001b[1;32m      9\u001b[0m \u001b[38;5;28mprint\u001b[39m(\u001b[38;5;124m\"\u001b[39m\u001b[38;5;124mTable created successfully\u001b[39m\u001b[38;5;124m\"\u001b[39m)\n\u001b[0;32m---> 12\u001b[0m \u001b[43mconn\u001b[49m\u001b[38;5;241;43m.\u001b[39;49m\u001b[43mexecute\u001b[49m\u001b[43m(\u001b[49m\u001b[38;5;124;43m\"\u001b[39;49m\u001b[38;5;124;43mINSERT INTO THURSDAY (ID,BAND,HOMETOWN,YEAR) VALUES (1, \u001b[39;49m\u001b[38;5;124;43m'\u001b[39;49m\u001b[38;5;124;43mThe Beatles\u001b[39;49m\u001b[38;5;124;43m'\u001b[39;49m\u001b[38;5;124;43m, \u001b[39;49m\u001b[38;5;124;43m'\u001b[39;49m\u001b[38;5;124;43mLiverpool, England\u001b[39;49m\u001b[38;5;124;43m'\u001b[39;49m\u001b[38;5;124;43m, 1960)\u001b[39;49m\u001b[38;5;124;43m\"\u001b[39;49m\u001b[43m)\u001b[49m\n\u001b[1;32m     14\u001b[0m conn\u001b[38;5;241m.\u001b[39mexecute(\u001b[38;5;124m\"\u001b[39m\u001b[38;5;124mINSERT INTO THURSDAY (ID,BAND,HOMETOWN,YEAR) VALUES (2, \u001b[39m\u001b[38;5;124m'\u001b[39m\u001b[38;5;124mGuns and Roses\u001b[39m\u001b[38;5;124m'\u001b[39m\u001b[38;5;124m, \u001b[39m\u001b[38;5;124m'\u001b[39m\u001b[38;5;124mLos Angeles, USA\u001b[39m\u001b[38;5;124m'\u001b[39m\u001b[38;5;124m, 1985)\u001b[39m\u001b[38;5;124m\"\u001b[39m)\n\u001b[1;32m     16\u001b[0m conn\u001b[38;5;241m.\u001b[39mexecute(\u001b[38;5;124m\"\u001b[39m\u001b[38;5;124mINSERT INTO THURSDAY (ID,BAND,HOMETOWN,YEAR) VALUES (3, \u001b[39m\u001b[38;5;124m'\u001b[39m\u001b[38;5;124mAgnee\u001b[39m\u001b[38;5;124m'\u001b[39m\u001b[38;5;124m, \u001b[39m\u001b[38;5;124m'\u001b[39m\u001b[38;5;124mPune, India\u001b[39m\u001b[38;5;124m'\u001b[39m\u001b[38;5;124m, 2007)\u001b[39m\u001b[38;5;124m\"\u001b[39m)\n",
      "\u001b[0;31mIntegrityError\u001b[0m: UNIQUE constraint failed: THURSDAY.ID"
     ]
    }
   ],
   "source": [
    "import sqlite3\n",
    "conn = sqlite3.connect('challenge.db')\n",
    "print(\"Opened database successfully\")\n",
    "conn.execute('''CREATE TABLE IF NOT EXISTS THURSDAY\n",
    " (ID INT PRIMARY KEY     NOT NULL,\n",
    " BAND           TEXT    NOT NULL,\n",
    " HOMETOWN       TEXT     NOT NULL,\n",
    " YEAR           INT      NOT NULL);''')\n",
    "print(\"Table created successfully\")\n",
    "\n",
    "\n",
    "conn.execute(\"INSERT INTO THURSDAY (ID,BAND,HOMETOWN,YEAR) VALUES (1, 'The Beatles', 'Liverpool, England', 1960)\")\n",
    "\n",
    "conn.execute(\"INSERT INTO THURSDAY (ID,BAND,HOMETOWN,YEAR) VALUES (2, 'Guns and Roses', 'Los Angeles, USA', 1985)\")\n",
    "\n",
    "conn.execute(\"INSERT INTO THURSDAY (ID,BAND,HOMETOWN,YEAR) VALUES (3, 'Agnee', 'Pune, India', 2007)\")\n",
    "\n",
    "conn.commit()\n",
    "print(\"Records created successfully\")\n"
   ]
  },
  {
   "cell_type": "code",
   "execution_count": 2,
   "id": "49f77586-0fdc-4c86-9a98-9a391b46ae7e",
   "metadata": {},
   "outputs": [
    {
     "name": "stdout",
     "output_type": "stream",
     "text": [
      "   ID            BAND            HOMETOWN  YEAR\n",
      "0   1     The Beatles  Liverpool, England  1960\n",
      "1   2  Guns and Roses    Los Angeles, USA  1985\n",
      "2   3           Agnee         Pune, India  2007\n"
     ]
    }
   ],
   "source": [
    "import pandas as pd\n",
    "import sqlite3\n",
    "\n",
    "# Read sqlite query results into a pandas DataFrame\n",
    "con = sqlite3.connect(\"challenge.db\")\n",
    "df = pd.read_sql_query(\"SELECT * from THURSDAY\", con)\n",
    "\n",
    "# Verify that result of SQL query is stored in the dataframe\n",
    "print(df.head())\n",
    "\n",
    "con.close()"
   ]
  },
  {
   "cell_type": "code",
   "execution_count": null,
   "id": "ed847dfc-69df-477c-a9f2-d381375cc143",
   "metadata": {},
   "outputs": [],
   "source": []
  }
 ],
 "metadata": {
  "kernelspec": {
   "display_name": "Python 3 (ipykernel)",
   "language": "python",
   "name": "python3"
  },
  "language_info": {
   "codemirror_mode": {
    "name": "ipython",
    "version": 3
   },
   "file_extension": ".py",
   "mimetype": "text/x-python",
   "name": "python",
   "nbconvert_exporter": "python",
   "pygments_lexer": "ipython3",
   "version": "3.10.6"
  }
 },
 "nbformat": 4,
 "nbformat_minor": 5
}
